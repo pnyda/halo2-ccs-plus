{
 "cells": [
  {
   "cell_type": "markdown",
   "id": "7c5beac9-7549-4a24-adcc-84c6bbf01324",
   "metadata": {},
   "source": [
    "This notebook is based on https://github.com/dmpierre/air-ccs/blob/main/sage/air-to-ccs.ipynb. This notebook implements\n",
    "- Plonk-to-CCS conversion algorithm, found in the [CCS paper](https://eprint.iacr.org/2023/552), Section 2.2.\n",
    "- A PoC of incorporating Halo2 lookup into CCS+.\n",
    "[The explanation of math behind the algorithm is here](https://hackmd.io/@pnyda/SkG0qaUuA)\n"
   ]
  },
  {
   "cell_type": "markdown",
   "id": "96f62303-cf3e-401e-a4d5-675ba0be28ed",
   "metadata": {},
   "source": [
    "# The part where we derive c, M, S from custom gates"
   ]
  },
  {
   "cell_type": "code",
   "execution_count": 15,
   "id": "3d8e25a7",
   "metadata": {},
   "outputs": [
    {
     "name": "stdout",
     "output_type": "stream",
     "text": [
      "(2, 1, 6, 3, 2, 7, 4, 3, 3, 10, 5, 45, 1)\n",
      "[1 0 0 0 0 0 0 0 0 0 0 0 0]\n",
      "[0 1 0 0 0 0 0 0 0 0 0 0 0]\n",
      "[0 0 1 0 0 0 0 0 0 0 0 0 0]\n",
      "[0 0 0 1 0 0 0 0 0 0 0 0 0]\n",
      "[0 0 0 0 1 0 0 0 0 0 0 0 0]\n",
      "[0 0 0 0 0 1 0 0 0 0 0 0 0]\n",
      "[0 0 0 0 0 0 1 0 0 0 0 0 0]\n",
      "[0 0 0 0 0 0 0 1 0 0 0 0 0]\n",
      "[0 0 0 0 0 0 0 0 1 0 0 0 0]\n",
      "[0 0 0 0 0 0 0 0 0 1 0 0 0]\n",
      "[0 0 0 0 0 0 0 0 0 0 1 0 0]\n",
      "[0 0 0 0 0 0 0 0 0 0 0 1 0]\n"
     ]
    }
   ],
   "source": [
    "p = 21888242871839275222246405745257275088696311157297823662689037894645226208583\n",
    "F = GF(p)\n",
    "P.<a, b, c, d> = F[]\n",
    "\n",
    "# Define letters\n",
    "t = 4\n",
    "m = 3\n",
    "n = 13\n",
    "\n",
    "# Let's say we have 4 advice columns. We constrain muladd.\n",
    "g = a * b + c - d\n",
    "\n",
    "# Advice columns\n",
    "table = [[2, 1, 6], [3, 2, 7], [4, 3, 3], [10, 5, 45]]\n",
    "\n",
    "# First we generate Z by flattening the table\n",
    "z = vector(F, table[0] + table[1] + table[2] + table[3] + [1])\n",
    "print(z)\n",
    "\n",
    "# Generate M\n",
    "# This method only works for this gate. How do I generalize this and make it support arbitrary gates? such as ones that refer to neighboring rows?\n",
    "matrices = [matrix(F, m, n) for i in range(t)]\n",
    "for (i, column) in enumerate(table):\n",
    "    for (j, cell) in enumerate(column):\n",
    "        matrices[i][j, i * len(column) + j] = 1\n",
    "\n",
    "print(matrices[0])\n",
    "print(matrices[1])\n",
    "print(matrices[2])\n",
    "print(matrices[3])"
   ]
  },
  {
   "cell_type": "code",
   "execution_count": null,
   "id": "bae1fefc",
   "metadata": {},
   "outputs": [],
   "source": []
  },
  {
   "cell_type": "code",
   "execution_count": null,
   "id": "d010fad2",
   "metadata": {},
   "outputs": [],
   "source": []
  },
  {
   "cell_type": "code",
   "execution_count": null,
   "id": "bcf244e8",
   "metadata": {},
   "outputs": [],
   "source": []
  },
  {
   "cell_type": "code",
   "execution_count": null,
   "id": "df5c7601",
   "metadata": {},
   "outputs": [],
   "source": []
  },
  {
   "cell_type": "code",
   "execution_count": null,
   "id": "74317377",
   "metadata": {},
   "outputs": [],
   "source": []
  },
  {
   "cell_type": "code",
   "execution_count": null,
   "id": "4a05b087",
   "metadata": {},
   "outputs": [],
   "source": []
  },
  {
   "cell_type": "code",
   "execution_count": null,
   "id": "ec9e000b",
   "metadata": {},
   "outputs": [],
   "source": []
  },
  {
   "cell_type": "code",
   "execution_count": null,
   "id": "289cd48c",
   "metadata": {},
   "outputs": [],
   "source": []
  }
 ],
 "metadata": {
  "kernelspec": {
   "display_name": "SageMath 10.3",
   "language": "sage",
   "name": "sagemath"
  },
  "language_info": {
   "codemirror_mode": {
    "name": "ipython",
    "version": 3
   },
   "file_extension": ".py",
   "mimetype": "text/x-python",
   "name": "python",
   "nbconvert_exporter": "python",
   "pygments_lexer": "ipython3",
   "version": "3.12.4"
  }
 },
 "nbformat": 4,
 "nbformat_minor": 5
}
