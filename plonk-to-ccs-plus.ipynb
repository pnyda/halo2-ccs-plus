{
 "cells": [
  {
   "cell_type": "markdown",
   "id": "7c5beac9-7549-4a24-adcc-84c6bbf01324",
   "metadata": {},
   "source": [
    "This notebook is based on https://github.com/dmpierre/air-ccs/blob/main/sage/air-to-ccs.ipynb. This notebook implements\n",
    "- Plonk-to-CCS conversion algorithm, found in the [CCS paper](https://eprint.iacr.org/2023/552), Section 2.2.\n",
    "- A PoC of incorporating Halo2 lookup into CCS+.\n",
    "[The explanation of math behind the algorithm is here](https://hackmd.io/@pnyda/SkG0qaUuA)\n"
   ]
  },
  {
   "cell_type": "markdown",
   "id": "96f62303-cf3e-401e-a4d5-675ba0be28ed",
   "metadata": {},
   "source": [
    "# The part where we derive c, M, S from custom gates"
   ]
  },
  {
   "cell_type": "code",
   "execution_count": 24,
   "id": "bae1fefc",
   "metadata": {},
   "outputs": [
    {
     "name": "stdout",
     "output_type": "stream",
     "text": [
      "[1, 1, -1]\n",
      "[[0, 1], [2], [3]]\n",
      "m[0] [1 0 0 0 0 0 0 0 0 0 0 0]\n",
      "[0 1 0 0 0 0 0 0 0 0 0 0]\n",
      "[0 0 1 0 0 0 0 0 0 0 0 0]\n",
      "m[1] [0 0 0 1 0 0 0 0 0 0 0 0]\n",
      "[0 0 0 0 1 0 0 0 0 0 0 0]\n",
      "[0 0 0 0 0 1 0 0 0 0 0 0]\n",
      "m[2] [0 0 0 0 0 0 1 0 0 0 0 0]\n",
      "[0 0 0 0 0 0 0 1 0 0 0 0]\n",
      "[0 0 0 0 0 0 0 0 1 0 0 0]\n",
      "m[3] [0 0 0 0 0 0 0 0 0 1 0 0]\n",
      "[0 0 0 0 0 0 0 0 0 0 1 0]\n",
      "[0 0 0 0 0 0 0 0 0 0 0 1]\n"
     ]
    }
   ],
   "source": [
    "# Classes to represent a custom gate\n",
    "\n",
    "from dataclasses import dataclass\n",
    "\n",
    "@dataclass\n",
    "class Cell:\n",
    "    absolute_column_index: int\n",
    "    relative_row_index: int\n",
    "\n",
    "@dataclass\n",
    "class Monomial:\n",
    "    coefficient: int\n",
    "    variables: list[Cell]\n",
    "\n",
    "@dataclass\n",
    "class CustomGate:\n",
    "    monomials: list[Monomial]\n",
    "\n",
    "    def c(self) -> list[int]:\n",
    "        return [monomial.coefficient for monomial in self.monomials]\n",
    "\n",
    "    def s(self) -> list[int]:\n",
    "        i = 0\n",
    "        \n",
    "        s = []\n",
    "        for monomial in self.monomials:\n",
    "            a = []\n",
    "            for variable in monomial.variables:\n",
    "                a.append(i)\n",
    "                i += 1         \n",
    "            s.append(a)\n",
    "\n",
    "        return s\n",
    "\n",
    "    def t(self) -> list[int]:\n",
    "        t = 0\n",
    "        for monomial in self.monomials:\n",
    "            for variable in monomial.variables:\n",
    "                t += 1\n",
    "\n",
    "        return t\n",
    "\n",
    "\n",
    "p = 21888242871839275222246405745257275088696311157297823662689037894645226208583\n",
    "F = GF(p)\n",
    "\n",
    "# def derive_m(table_width: int, table_height: int, gate: CustomGate, copy_constraints: list[(Cell, Cell)]):\n",
    "def derive_m(table_width: int, table_height: int, gate: CustomGate):\n",
    "    matrices = [matrix(F, table_height, table_width * table_height) for i in range(gate.t())]\n",
    "\n",
    "    j = 0\n",
    "    for monomial in gate.monomials:\n",
    "        for variable in monomial.variables:\n",
    "            for y in range(table_height):\n",
    "                matrices[j][y, variable.absolute_column_index * table_height + (y + variable.relative_row_index) % table_height] = 1\n",
    "            j += 1\n",
    "\n",
    "    return matrices\n",
    "    \n",
    "            \n",
    "# a * b + c = d\n",
    "g_muladd = CustomGate([\n",
    "    Monomial(1, [Cell(0, 0), Cell(1, 0)]),\n",
    "    Monomial(1, [Cell(2, 0)]),\n",
    "    Monomial(-1, [Cell(3, 0)]),\n",
    "])\n",
    "\n",
    "print(g_muladd.c())\n",
    "print(g_muladd.s())\n",
    "\n",
    "m = derive_m(4, 3, g_muladd)\n",
    "print(\"m[0]\", m[0])\n",
    "print(\"m[1]\", m[1])\n",
    "print(\"m[2]\", m[2])\n",
    "print(\"m[3]\", m[3])"
   ]
  },
  {
   "cell_type": "code",
   "execution_count": 19,
   "id": "d010fad2",
   "metadata": {},
   "outputs": [],
   "source": [
    "# https://github.com/dmpierre/air-ccs/blob/main/sage/air-to-ccs.ipynb\n",
    "def ccs_is_satisfied(F, z, matrices, multisets, constants):\n",
    "    satisfied_instance_witness = vector(F, [0 for i in range(matrices[0].dimensions()[0])])\n",
    "    z_final = vector(F, [0 for i in range(matrices[0].dimensions()[0])])\n",
    "    for i, c in enumerate(constants):\n",
    "        multiset = multisets[i]\n",
    "        z_i = vector(F, [1 for i in range(matrices[0].dimensions()[0])])\n",
    "        for j in multiset:\n",
    "            z_i = z_i.pairwise_product(matrices[j] * z)\n",
    "        z_final += c * z_i\n",
    "    return z_final == satisfied_instance_witness"
   ]
  },
  {
   "cell_type": "code",
   "execution_count": 20,
   "id": "bcf244e8",
   "metadata": {},
   "outputs": [],
   "source": [
    "# Advice columns\n",
    "table = [[2, 1, 6], [3, 2, 7], [4, 3, 3], [10, 5, 45]]\n",
    "z = vector(F, table[0] + table[1] + table[2] + table[3])\n",
    "assert ccs_is_satisfied(F, z, m, g_muladd.s(), g_muladd.c())"
   ]
  },
  {
   "cell_type": "code",
   "execution_count": 31,
   "id": "df5c7601",
   "metadata": {},
   "outputs": [
    {
     "name": "stdout",
     "output_type": "stream",
     "text": [
      "[1 0 0 0 0 0 0 0]\n",
      "[0 1 0 0 0 0 0 0]\n",
      "[0 0 1 0 0 0 0 0]\n",
      "[0 0 0 1 0 0 0 0]\n",
      "[0 0 0 0 1 0 0 0]\n",
      "[0 0 0 0 0 1 0 0]\n",
      "[0 0 0 0 0 0 1 0]\n",
      "[0 0 0 0 0 0 0 1]\n",
      "[1 0 0 0 0 0 0 0]\n",
      "[0 1 0 0 0 0 0 0]\n",
      "[0 0 1 0 0 0 0 0]\n",
      "[0 0 0 1 0 0 0 0]\n",
      "[0 0 0 0 0 1 0 0]\n",
      "[0 0 0 0 0 0 1 0]\n",
      "[0 0 0 0 0 0 0 1]\n",
      "[0 0 0 0 1 0 0 0]\n",
      "[1 0 0 0 0 0 0 0]\n",
      "[0 1 0 0 0 0 0 0]\n",
      "[0 0 1 0 0 0 0 0]\n",
      "[0 0 0 1 0 0 0 0]\n",
      "[0 0 0 0 0 0 1 0]\n",
      "[0 0 0 0 0 0 0 1]\n",
      "[0 0 0 0 1 0 0 0]\n",
      "[0 0 0 0 0 1 0 0]\n"
     ]
    }
   ],
   "source": [
    "# latch(X) * (fib(X) + fib(Xω) - fib(Xω^2)) = 0\n",
    "g_fib = CustomGate([\n",
    "    Monomial(1, [Cell(0, 0), Cell(1, 0)]),\n",
    "    Monomial(1, [Cell(0, 0), Cell(1, 1)]),\n",
    "    Monomial(-1, [Cell(0, 0), Cell(1, 2)]),\n",
    "])\n",
    "m = derive_m(2, 4, g_fib)\n",
    "print(m[0])\n",
    "print(m[1])\n",
    "print(m[2])\n",
    "print(m[3])\n",
    "print(m[4])\n",
    "print(m[5])\n",
    "\n",
    "# Advice columns\n",
    "table = [[1, 1, 0, 0], [1, 1, 2, 3]]\n",
    "z = vector(F, table[0] + table[1])\n",
    "assert ccs_is_satisfied(F, z, m, g_fib.s(), g_fib.c())"
   ]
  },
  {
   "cell_type": "code",
   "execution_count": null,
   "id": "74317377",
   "metadata": {},
   "outputs": [],
   "source": [
    "# TODO\n",
    "- copy constraints\n",
    "- lookup"
   ]
  },
  {
   "cell_type": "code",
   "execution_count": null,
   "id": "4a05b087",
   "metadata": {},
   "outputs": [],
   "source": []
  },
  {
   "cell_type": "code",
   "execution_count": null,
   "id": "ec9e000b",
   "metadata": {},
   "outputs": [],
   "source": []
  },
  {
   "cell_type": "code",
   "execution_count": null,
   "id": "289cd48c",
   "metadata": {},
   "outputs": [],
   "source": []
  }
 ],
 "metadata": {
  "kernelspec": {
   "display_name": "SageMath 10.3",
   "language": "sage",
   "name": "sagemath"
  },
  "language_info": {
   "codemirror_mode": {
    "name": "ipython",
    "version": 3
   },
   "file_extension": ".py",
   "mimetype": "text/x-python",
   "name": "python",
   "nbconvert_exporter": "python",
   "pygments_lexer": "ipython3",
   "version": "3.12.4"
  }
 },
 "nbformat": 4,
 "nbformat_minor": 5
}
